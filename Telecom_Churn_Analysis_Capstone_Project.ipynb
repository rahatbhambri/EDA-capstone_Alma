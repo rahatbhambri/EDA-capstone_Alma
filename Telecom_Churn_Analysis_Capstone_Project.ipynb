{
  "nbformat": 4,
  "nbformat_minor": 0,
  "metadata": {
    "kernelspec": {
      "display_name": "Python 3",
      "language": "python",
      "name": "python3"
    },
    "language_info": {
      "codemirror_mode": {
        "name": "ipython",
        "version": 3
      },
      "file_extension": ".py",
      "mimetype": "text/x-python",
      "name": "python",
      "nbconvert_exporter": "python",
      "pygments_lexer": "ipython3",
      "version": "3.6.6"
    },
    "colab": {
      "name": "Telecom Churn Analysis - Capstone Project.ipynb",
      "provenance": [],
      "collapsed_sections": []
    }
  },
  "cells": [
    {
      "cell_type": "markdown",
      "metadata": {
        "id": "Y06xIdG26kRF"
      },
      "source": [
        "## <b> Orange S.A., formerly France Télécom S.A., is a French multinational telecommunications corporation. The Orange Telecom's Churn Dataset, consists of cleaned customer activity data (features), along with a churn label specifying whether a customer canceled the subscription.\n",
        "\n",
        "## <b> Explore and analyze the data to discover key factors responsible for customer churn and come up with ways/recommendations to ensure customer retention. </b>"
      ]
    },
    {
      "cell_type": "markdown",
      "metadata": {
        "id": "YTOFgUpXbYOX"
      },
      "source": [
        "## Introduction"
      ]
    },
    {
      "cell_type": "markdown",
      "metadata": {
        "id": "kZ5OOb3Wx8ya"
      },
      "source": [
        "The imaginary context for this project: \n",
        "\n",
        "Suppose I’m a data analyst working at Orange telecommonucations limited. My manager told me to work on telecom churn dataset and to do analysis on that data to discover key factors responsible for customer churn and come up with ways/recommendations to ensure customer retention. So Lets Start work....."
      ]
    },
    {
      "cell_type": "markdown",
      "metadata": {
        "id": "Bvsyom__Bb7X"
      },
      "source": [
        "In the telecom industry, customers are able to choose from multiple service providers and actively switch from one operator to another. In this highly competitive market, the telecommunications industry experiences an average of 15-25% annual churn rate. Given the fact that it costs 5-10 times more to acquire a new customer than to retain an existing one, customer retention has now become even more important than customer acquisition."
      ]
    },
    {
      "cell_type": "markdown",
      "metadata": {
        "id": "C7AoNFOteB7w"
      },
      "source": [
        "**What Is Churn Rate or Churning?**\n",
        "\n",
        "Churn is a metric that shows customers who stop doing business with a company or a particular service, also known as customer attrition"
      ]
    },
    {
      "cell_type": "markdown",
      "metadata": {
        "id": "xGDGeYJ9ef9U"
      },
      "source": [
        "**Understanding Churn Rate**\n",
        "\n",
        "A high churn rate could adversely affect profits and impede growth. Churn rate is an important factor in the telecommunications industry. In most areas, many of these companies compete, making it easy for people to transfer from one provider to another.\n",
        "\n",
        "\n",
        "The churn rate not only includes when customers switch carriers but also includes when customers terminate service without switching. This measurement is most valuable in subscriber-based businesses in which subscription fees comprise most of the revenues.\n",
        "\n",
        "\n",
        "What is considered a good or bad churn rate can vary from industry to industry.\n",
        "\n",
        "Increasing customer retention rates by 5% can increase profits by 25% to 95%, according to research done by Bain & Company (https://media.bain.com/Images/BB_Prescription_cutting_costs.pdf)."
      ]
    },
    {
      "cell_type": "markdown",
      "metadata": {
        "id": "I1aAUq1izIVC"
      },
      "source": [
        "**Let’s start by summarizing whole data analysis project into following steps:**\n",
        "- Step 1: Importing essential Libraries and Data set\n",
        "- Step 2: Data wrangling\n",
        "- Step 3: Descriptive Statistics\n",
        "- Step 4: Exploratory analysis\n",
        "- Step 5: Data Visualization\n",
        "- Step 6: Conclusion & Recommendations"
      ]
    },
    {
      "cell_type": "markdown",
      "metadata": {
        "id": "RSYyRr6Qky95"
      },
      "source": [
        "# Importing Essential Libraries"
      ]
    },
    {
      "cell_type": "code",
      "metadata": {
        "id": "ouvny6SZkCze"
      },
      "source": [
        "# Importing Libraries\n",
        "import pandas as pd\n",
        "import numpy as np\n",
        "import seaborn as sns\n",
        "import matplotlib.pyplot as plt\n",
        "%matplotlib inline\n",
        "\n",
        "#to suppress warnings\n",
        "import warnings\n",
        "warnings.filterwarnings('ignore')"
      ],
      "execution_count": null,
      "outputs": []
    },
    {
      "cell_type": "markdown",
      "metadata": {
        "id": "HtD-FtpQk6L5"
      },
      "source": [
        "# Importing Data Set"
      ]
    },
    {
      "cell_type": "code",
      "metadata": {
        "colab": {
          "base_uri": "https://localhost:8080/"
        },
        "id": "nY49Q6vKivlz",
        "outputId": "d53d2296-d3e7-48be-b849-7ef4d2b2e52b"
      },
      "source": [
        "# Importing Data Set\n",
        "from google.colab import drive\n",
        "drive.mount('/content/drive')"
      ],
      "execution_count": null,
      "outputs": [
        {
          "output_type": "stream",
          "name": "stdout",
          "text": [
            "Drive already mounted at /content/drive; to attempt to forcibly remount, call drive.mount(\"/content/drive\", force_remount=True).\n"
          ]
        }
      ]
    },
    {
      "cell_type": "code",
      "metadata": {
        "id": "dByMsuzT8Tnw",
        "colab": {
          "base_uri": "https://localhost:8080/",
          "height": 241
        },
        "outputId": "da141b40-7c60-40ce-face-83b5c72ad703"
      },
      "source": [
        "path=\"/content/drive/MyDrive/Colab Notebooks/Almabetter/Capstone Projects/EDA_Capston_project/Telecom Churn.csv\"\n",
        "df= pd.read_csv(path)\n",
        "df.head()"
      ],
      "execution_count": null,
      "outputs": [
        {
          "output_type": "execute_result",
          "data": {
            "text/html": [
              "<div>\n",
              "<style scoped>\n",
              "    .dataframe tbody tr th:only-of-type {\n",
              "        vertical-align: middle;\n",
              "    }\n",
              "\n",
              "    .dataframe tbody tr th {\n",
              "        vertical-align: top;\n",
              "    }\n",
              "\n",
              "    .dataframe thead th {\n",
              "        text-align: right;\n",
              "    }\n",
              "</style>\n",
              "<table border=\"1\" class=\"dataframe\">\n",
              "  <thead>\n",
              "    <tr style=\"text-align: right;\">\n",
              "      <th></th>\n",
              "      <th>State</th>\n",
              "      <th>Account length</th>\n",
              "      <th>Area code</th>\n",
              "      <th>International plan</th>\n",
              "      <th>Voice mail plan</th>\n",
              "      <th>Number vmail messages</th>\n",
              "      <th>Total day minutes</th>\n",
              "      <th>Total day calls</th>\n",
              "      <th>Total day charge</th>\n",
              "      <th>Total eve minutes</th>\n",
              "      <th>Total eve calls</th>\n",
              "      <th>Total eve charge</th>\n",
              "      <th>Total night minutes</th>\n",
              "      <th>Total night calls</th>\n",
              "      <th>Total night charge</th>\n",
              "      <th>Total intl minutes</th>\n",
              "      <th>Total intl calls</th>\n",
              "      <th>Total intl charge</th>\n",
              "      <th>Customer service calls</th>\n",
              "      <th>Churn</th>\n",
              "    </tr>\n",
              "  </thead>\n",
              "  <tbody>\n",
              "    <tr>\n",
              "      <th>0</th>\n",
              "      <td>KS</td>\n",
              "      <td>128</td>\n",
              "      <td>415</td>\n",
              "      <td>No</td>\n",
              "      <td>Yes</td>\n",
              "      <td>25</td>\n",
              "      <td>265.1</td>\n",
              "      <td>110</td>\n",
              "      <td>45.07</td>\n",
              "      <td>197.4</td>\n",
              "      <td>99</td>\n",
              "      <td>16.78</td>\n",
              "      <td>244.7</td>\n",
              "      <td>91</td>\n",
              "      <td>11.01</td>\n",
              "      <td>10.0</td>\n",
              "      <td>3</td>\n",
              "      <td>2.70</td>\n",
              "      <td>1</td>\n",
              "      <td>False</td>\n",
              "    </tr>\n",
              "    <tr>\n",
              "      <th>1</th>\n",
              "      <td>OH</td>\n",
              "      <td>107</td>\n",
              "      <td>415</td>\n",
              "      <td>No</td>\n",
              "      <td>Yes</td>\n",
              "      <td>26</td>\n",
              "      <td>161.6</td>\n",
              "      <td>123</td>\n",
              "      <td>27.47</td>\n",
              "      <td>195.5</td>\n",
              "      <td>103</td>\n",
              "      <td>16.62</td>\n",
              "      <td>254.4</td>\n",
              "      <td>103</td>\n",
              "      <td>11.45</td>\n",
              "      <td>13.7</td>\n",
              "      <td>3</td>\n",
              "      <td>3.70</td>\n",
              "      <td>1</td>\n",
              "      <td>False</td>\n",
              "    </tr>\n",
              "    <tr>\n",
              "      <th>2</th>\n",
              "      <td>NJ</td>\n",
              "      <td>137</td>\n",
              "      <td>415</td>\n",
              "      <td>No</td>\n",
              "      <td>No</td>\n",
              "      <td>0</td>\n",
              "      <td>243.4</td>\n",
              "      <td>114</td>\n",
              "      <td>41.38</td>\n",
              "      <td>121.2</td>\n",
              "      <td>110</td>\n",
              "      <td>10.30</td>\n",
              "      <td>162.6</td>\n",
              "      <td>104</td>\n",
              "      <td>7.32</td>\n",
              "      <td>12.2</td>\n",
              "      <td>5</td>\n",
              "      <td>3.29</td>\n",
              "      <td>0</td>\n",
              "      <td>False</td>\n",
              "    </tr>\n",
              "    <tr>\n",
              "      <th>3</th>\n",
              "      <td>OH</td>\n",
              "      <td>84</td>\n",
              "      <td>408</td>\n",
              "      <td>Yes</td>\n",
              "      <td>No</td>\n",
              "      <td>0</td>\n",
              "      <td>299.4</td>\n",
              "      <td>71</td>\n",
              "      <td>50.90</td>\n",
              "      <td>61.9</td>\n",
              "      <td>88</td>\n",
              "      <td>5.26</td>\n",
              "      <td>196.9</td>\n",
              "      <td>89</td>\n",
              "      <td>8.86</td>\n",
              "      <td>6.6</td>\n",
              "      <td>7</td>\n",
              "      <td>1.78</td>\n",
              "      <td>2</td>\n",
              "      <td>False</td>\n",
              "    </tr>\n",
              "    <tr>\n",
              "      <th>4</th>\n",
              "      <td>OK</td>\n",
              "      <td>75</td>\n",
              "      <td>415</td>\n",
              "      <td>Yes</td>\n",
              "      <td>No</td>\n",
              "      <td>0</td>\n",
              "      <td>166.7</td>\n",
              "      <td>113</td>\n",
              "      <td>28.34</td>\n",
              "      <td>148.3</td>\n",
              "      <td>122</td>\n",
              "      <td>12.61</td>\n",
              "      <td>186.9</td>\n",
              "      <td>121</td>\n",
              "      <td>8.41</td>\n",
              "      <td>10.1</td>\n",
              "      <td>3</td>\n",
              "      <td>2.73</td>\n",
              "      <td>3</td>\n",
              "      <td>False</td>\n",
              "    </tr>\n",
              "  </tbody>\n",
              "</table>\n",
              "</div>"
            ],
            "text/plain": [
              "  State  Account length  ...  Customer service calls  Churn\n",
              "0    KS             128  ...                       1  False\n",
              "1    OH             107  ...                       1  False\n",
              "2    NJ             137  ...                       0  False\n",
              "3    OH              84  ...                       2  False\n",
              "4    OK              75  ...                       3  False\n",
              "\n",
              "[5 rows x 20 columns]"
            ]
          },
          "metadata": {},
          "execution_count": 5
        }
      ]
    },
    {
      "cell_type": "markdown",
      "metadata": {
        "id": "Ai-4botY3lWe"
      },
      "source": [
        "- **Each row represents a customer and each column contains customer’s attributes.**"
      ]
    },
    {
      "cell_type": "markdown",
      "metadata": {
        "id": "dd-MnCXP4aJB"
      },
      "source": [
        "## Okay, got it... Lets more clear about features present in Data set\n",
        "\n",
        "- **State**: It represents Letter codes for the different states where customers resides.\n",
        "\n",
        "- **Account Length**: It shows the how long account has been active in terms of the Month\n",
        "\n",
        "- **Area Code**: This are the codes of the particular areas by which areas are identified.\n",
        "\n",
        "- **International Plan**: Yes - tells us customer had International Plan and No - tells us customer hadn't subscribed for International Plan.\n",
        "\n",
        "- **Voice Mail Plan**: Yes- tells us customer had Voice Mail Plan and No - tells us customer hadn't subscribed for Voice Mail Plan.\n",
        "\n",
        "- **Number vmail messages**: messages done by customers.\n",
        "\n",
        "- **Total day minutes**: Total number of minutes spent by customers in the morning.\n",
        "\n",
        "- **Total day calls**: Its Total of number of calls made by Customer in the morning.\n",
        "\n",
        "- **Total day charge**: Its Total charge of services those are taken by the customers in the Morning.\n",
        "\n",
        "- **Total eve minutes**: Total number of minutes spent by customers in the Evening.\n",
        "\n",
        "- **Total eve calls**: Its Total of number of calls made by Customer in the Evening.\n",
        "\n",
        "- **Total eve charge**:  Its Total charge of services those are taken by the customers in the evening.\n",
        "\n",
        "- **Total night minutes**: Total number of minutes Spent By Customers in the Night.\n",
        "\n",
        "- **Total night calls**: Its Total of number of calls made by Customer in Night.\n",
        "\n",
        "- **Total night charge**: Its Total charge of services those are taken by the customers in the Night.\n",
        "\n",
        "- **Total intl minutes**: Total intl minutes Spent By Customers.\n",
        "\n",
        "- **Total intl calls**: Its Total of number of International calls made by Customers.\n",
        "\n",
        "- **Total intl charge**: Its Total charge of International calls services those are taken by the customers.\n",
        "\n",
        "- **Customer service calls**: Number of calls made by customer to the customer service\n",
        "\n",
        "- **Churn**: This is our Dependant variable which describe that customers churned or not churned\n",
        ".Where,True represents customer churned and False represents customer not churned.\n"
      ]
    },
    {
      "cell_type": "markdown",
      "metadata": {
        "id": "Q7LPBzK1lBLu"
      },
      "source": [
        "# Exploratory Data Analysis"
      ]
    },
    {
      "cell_type": "code",
      "metadata": {
        "colab": {
          "base_uri": "https://localhost:8080/"
        },
        "id": "Fbc0m4KTkSf0",
        "outputId": "63f17d18-5ffd-49e6-956c-575a92680019"
      },
      "source": [
        "# Concise summary of a DataFrame \n",
        "df.info()"
      ],
      "execution_count": null,
      "outputs": [
        {
          "output_type": "stream",
          "name": "stdout",
          "text": [
            "<class 'pandas.core.frame.DataFrame'>\n",
            "RangeIndex: 3333 entries, 0 to 3332\n",
            "Data columns (total 20 columns):\n",
            " #   Column                  Non-Null Count  Dtype  \n",
            "---  ------                  --------------  -----  \n",
            " 0   State                   3333 non-null   object \n",
            " 1   Account length          3333 non-null   int64  \n",
            " 2   Area code               3333 non-null   int64  \n",
            " 3   International plan      3333 non-null   object \n",
            " 4   Voice mail plan         3333 non-null   object \n",
            " 5   Number vmail messages   3333 non-null   int64  \n",
            " 6   Total day minutes       3333 non-null   float64\n",
            " 7   Total day calls         3333 non-null   int64  \n",
            " 8   Total day charge        3333 non-null   float64\n",
            " 9   Total eve minutes       3333 non-null   float64\n",
            " 10  Total eve calls         3333 non-null   int64  \n",
            " 11  Total eve charge        3333 non-null   float64\n",
            " 12  Total night minutes     3333 non-null   float64\n",
            " 13  Total night calls       3333 non-null   int64  \n",
            " 14  Total night charge      3333 non-null   float64\n",
            " 15  Total intl minutes      3333 non-null   float64\n",
            " 16  Total intl calls        3333 non-null   int64  \n",
            " 17  Total intl charge       3333 non-null   float64\n",
            " 18  Customer service calls  3333 non-null   int64  \n",
            " 19  Churn                   3333 non-null   bool   \n",
            "dtypes: bool(1), float64(8), int64(8), object(3)\n",
            "memory usage: 498.1+ KB\n"
          ]
        }
      ]
    },
    {
      "cell_type": "markdown",
      "metadata": {
        "id": "AzopTTgrNewp"
      },
      "source": [
        "## Checking for missing values"
      ]
    },
    {
      "cell_type": "code",
      "metadata": {
        "colab": {
          "base_uri": "https://localhost:8080/"
        },
        "id": "S2ijaY_wkXyN",
        "outputId": "4d640781-9448-45c4-904b-12bcd8532994"
      },
      "source": [
        "# Checking Null Values\n",
        "df.isnull().sum()"
      ],
      "execution_count": null,
      "outputs": [
        {
          "output_type": "execute_result",
          "data": {
            "text/plain": [
              "State                     0\n",
              "Account length            0\n",
              "Area code                 0\n",
              "International plan        0\n",
              "Voice mail plan           0\n",
              "Number vmail messages     0\n",
              "Total day minutes         0\n",
              "Total day calls           0\n",
              "Total day charge          0\n",
              "Total eve minutes         0\n",
              "Total eve calls           0\n",
              "Total eve charge          0\n",
              "Total night minutes       0\n",
              "Total night calls         0\n",
              "Total night charge        0\n",
              "Total intl minutes        0\n",
              "Total intl calls          0\n",
              "Total intl charge         0\n",
              "Customer service calls    0\n",
              "Churn                     0\n",
              "dtype: int64"
            ]
          },
          "metadata": {},
          "execution_count": 7
        }
      ]
    },
    {
      "cell_type": "markdown",
      "metadata": {
        "id": "IUyhFCfFOFWM"
      },
      "source": [
        "## Some Statistical analysis"
      ]
    },
    {
      "cell_type": "code",
      "metadata": {
        "colab": {
          "base_uri": "https://localhost:8080/",
          "height": 355
        },
        "id": "BRa10VtDkdEp",
        "outputId": "be3e5c5b-d415-4080-fb53-5d81e96940f3"
      },
      "source": [
        "# statistical analysis\n",
        "df.describe()"
      ],
      "execution_count": null,
      "outputs": [
        {
          "output_type": "execute_result",
          "data": {
            "text/html": [
              "<div>\n",
              "<style scoped>\n",
              "    .dataframe tbody tr th:only-of-type {\n",
              "        vertical-align: middle;\n",
              "    }\n",
              "\n",
              "    .dataframe tbody tr th {\n",
              "        vertical-align: top;\n",
              "    }\n",
              "\n",
              "    .dataframe thead th {\n",
              "        text-align: right;\n",
              "    }\n",
              "</style>\n",
              "<table border=\"1\" class=\"dataframe\">\n",
              "  <thead>\n",
              "    <tr style=\"text-align: right;\">\n",
              "      <th></th>\n",
              "      <th>Account length</th>\n",
              "      <th>Area code</th>\n",
              "      <th>Number vmail messages</th>\n",
              "      <th>Total day minutes</th>\n",
              "      <th>Total day calls</th>\n",
              "      <th>Total day charge</th>\n",
              "      <th>Total eve minutes</th>\n",
              "      <th>Total eve calls</th>\n",
              "      <th>Total eve charge</th>\n",
              "      <th>Total night minutes</th>\n",
              "      <th>Total night calls</th>\n",
              "      <th>Total night charge</th>\n",
              "      <th>Total intl minutes</th>\n",
              "      <th>Total intl calls</th>\n",
              "      <th>Total intl charge</th>\n",
              "      <th>Customer service calls</th>\n",
              "    </tr>\n",
              "  </thead>\n",
              "  <tbody>\n",
              "    <tr>\n",
              "      <th>count</th>\n",
              "      <td>3333.000000</td>\n",
              "      <td>3333.000000</td>\n",
              "      <td>3333.000000</td>\n",
              "      <td>3333.000000</td>\n",
              "      <td>3333.000000</td>\n",
              "      <td>3333.000000</td>\n",
              "      <td>3333.000000</td>\n",
              "      <td>3333.000000</td>\n",
              "      <td>3333.000000</td>\n",
              "      <td>3333.000000</td>\n",
              "      <td>3333.000000</td>\n",
              "      <td>3333.000000</td>\n",
              "      <td>3333.000000</td>\n",
              "      <td>3333.000000</td>\n",
              "      <td>3333.000000</td>\n",
              "      <td>3333.000000</td>\n",
              "    </tr>\n",
              "    <tr>\n",
              "      <th>mean</th>\n",
              "      <td>101.064806</td>\n",
              "      <td>437.182418</td>\n",
              "      <td>8.099010</td>\n",
              "      <td>179.775098</td>\n",
              "      <td>100.435644</td>\n",
              "      <td>30.562307</td>\n",
              "      <td>200.980348</td>\n",
              "      <td>100.114311</td>\n",
              "      <td>17.083540</td>\n",
              "      <td>200.872037</td>\n",
              "      <td>100.107711</td>\n",
              "      <td>9.039325</td>\n",
              "      <td>10.237294</td>\n",
              "      <td>4.479448</td>\n",
              "      <td>2.764581</td>\n",
              "      <td>1.562856</td>\n",
              "    </tr>\n",
              "    <tr>\n",
              "      <th>std</th>\n",
              "      <td>39.822106</td>\n",
              "      <td>42.371290</td>\n",
              "      <td>13.688365</td>\n",
              "      <td>54.467389</td>\n",
              "      <td>20.069084</td>\n",
              "      <td>9.259435</td>\n",
              "      <td>50.713844</td>\n",
              "      <td>19.922625</td>\n",
              "      <td>4.310668</td>\n",
              "      <td>50.573847</td>\n",
              "      <td>19.568609</td>\n",
              "      <td>2.275873</td>\n",
              "      <td>2.791840</td>\n",
              "      <td>2.461214</td>\n",
              "      <td>0.753773</td>\n",
              "      <td>1.315491</td>\n",
              "    </tr>\n",
              "    <tr>\n",
              "      <th>min</th>\n",
              "      <td>1.000000</td>\n",
              "      <td>408.000000</td>\n",
              "      <td>0.000000</td>\n",
              "      <td>0.000000</td>\n",
              "      <td>0.000000</td>\n",
              "      <td>0.000000</td>\n",
              "      <td>0.000000</td>\n",
              "      <td>0.000000</td>\n",
              "      <td>0.000000</td>\n",
              "      <td>23.200000</td>\n",
              "      <td>33.000000</td>\n",
              "      <td>1.040000</td>\n",
              "      <td>0.000000</td>\n",
              "      <td>0.000000</td>\n",
              "      <td>0.000000</td>\n",
              "      <td>0.000000</td>\n",
              "    </tr>\n",
              "    <tr>\n",
              "      <th>25%</th>\n",
              "      <td>74.000000</td>\n",
              "      <td>408.000000</td>\n",
              "      <td>0.000000</td>\n",
              "      <td>143.700000</td>\n",
              "      <td>87.000000</td>\n",
              "      <td>24.430000</td>\n",
              "      <td>166.600000</td>\n",
              "      <td>87.000000</td>\n",
              "      <td>14.160000</td>\n",
              "      <td>167.000000</td>\n",
              "      <td>87.000000</td>\n",
              "      <td>7.520000</td>\n",
              "      <td>8.500000</td>\n",
              "      <td>3.000000</td>\n",
              "      <td>2.300000</td>\n",
              "      <td>1.000000</td>\n",
              "    </tr>\n",
              "    <tr>\n",
              "      <th>50%</th>\n",
              "      <td>101.000000</td>\n",
              "      <td>415.000000</td>\n",
              "      <td>0.000000</td>\n",
              "      <td>179.400000</td>\n",
              "      <td>101.000000</td>\n",
              "      <td>30.500000</td>\n",
              "      <td>201.400000</td>\n",
              "      <td>100.000000</td>\n",
              "      <td>17.120000</td>\n",
              "      <td>201.200000</td>\n",
              "      <td>100.000000</td>\n",
              "      <td>9.050000</td>\n",
              "      <td>10.300000</td>\n",
              "      <td>4.000000</td>\n",
              "      <td>2.780000</td>\n",
              "      <td>1.000000</td>\n",
              "    </tr>\n",
              "    <tr>\n",
              "      <th>75%</th>\n",
              "      <td>127.000000</td>\n",
              "      <td>510.000000</td>\n",
              "      <td>20.000000</td>\n",
              "      <td>216.400000</td>\n",
              "      <td>114.000000</td>\n",
              "      <td>36.790000</td>\n",
              "      <td>235.300000</td>\n",
              "      <td>114.000000</td>\n",
              "      <td>20.000000</td>\n",
              "      <td>235.300000</td>\n",
              "      <td>113.000000</td>\n",
              "      <td>10.590000</td>\n",
              "      <td>12.100000</td>\n",
              "      <td>6.000000</td>\n",
              "      <td>3.270000</td>\n",
              "      <td>2.000000</td>\n",
              "    </tr>\n",
              "    <tr>\n",
              "      <th>max</th>\n",
              "      <td>243.000000</td>\n",
              "      <td>510.000000</td>\n",
              "      <td>51.000000</td>\n",
              "      <td>350.800000</td>\n",
              "      <td>165.000000</td>\n",
              "      <td>59.640000</td>\n",
              "      <td>363.700000</td>\n",
              "      <td>170.000000</td>\n",
              "      <td>30.910000</td>\n",
              "      <td>395.000000</td>\n",
              "      <td>175.000000</td>\n",
              "      <td>17.770000</td>\n",
              "      <td>20.000000</td>\n",
              "      <td>20.000000</td>\n",
              "      <td>5.400000</td>\n",
              "      <td>9.000000</td>\n",
              "    </tr>\n",
              "  </tbody>\n",
              "</table>\n",
              "</div>"
            ],
            "text/plain": [
              "       Account length    Area code  ...  Total intl charge  Customer service calls\n",
              "count     3333.000000  3333.000000  ...        3333.000000             3333.000000\n",
              "mean       101.064806   437.182418  ...           2.764581                1.562856\n",
              "std         39.822106    42.371290  ...           0.753773                1.315491\n",
              "min          1.000000   408.000000  ...           0.000000                0.000000\n",
              "25%         74.000000   408.000000  ...           2.300000                1.000000\n",
              "50%        101.000000   415.000000  ...           2.780000                1.000000\n",
              "75%        127.000000   510.000000  ...           3.270000                2.000000\n",
              "max        243.000000   510.000000  ...           5.400000                9.000000\n",
              "\n",
              "[8 rows x 16 columns]"
            ]
          },
          "metadata": {},
          "execution_count": 8
        }
      ]
    },
    {
      "cell_type": "markdown",
      "metadata": {
        "id": "NDcTMjvcnPTf"
      },
      "source": [
        "## Knowing the shape and size of dataset"
      ]
    },
    {
      "cell_type": "code",
      "metadata": {
        "colab": {
          "base_uri": "https://localhost:8080/"
        },
        "id": "LuaIwiCSkspw",
        "outputId": "44f31053-26fb-40f2-e431-e8cd3b570d02"
      },
      "source": [
        "# Customers Attributes\n",
        "df.columns"
      ],
      "execution_count": null,
      "outputs": [
        {
          "output_type": "execute_result",
          "data": {
            "text/plain": [
              "Index(['State', 'Account length', 'Area code', 'International plan',\n",
              "       'Voice mail plan', 'Number vmail messages', 'Total day minutes',\n",
              "       'Total day calls', 'Total day charge', 'Total eve minutes',\n",
              "       'Total eve calls', 'Total eve charge', 'Total night minutes',\n",
              "       'Total night calls', 'Total night charge', 'Total intl minutes',\n",
              "       'Total intl calls', 'Total intl charge', 'Customer service calls',\n",
              "       'Churn'],\n",
              "      dtype='object')"
            ]
          },
          "metadata": {},
          "execution_count": 7
        }
      ]
    },
    {
      "cell_type": "code",
      "metadata": {
        "colab": {
          "base_uri": "https://localhost:8080/"
        },
        "id": "_p0Lg2u-kwAL",
        "outputId": "8f428b5b-d53f-4d2e-b31d-95d942175a98"
      },
      "source": [
        "print (\"Rows     : \" ,df.shape[0])\n",
        "print (\"Columns  : \" ,df.shape[1])"
      ],
      "execution_count": null,
      "outputs": [
        {
          "output_type": "stream",
          "name": "stdout",
          "text": [
            "Rows     :  3333\n",
            "Columns  :  20\n"
          ]
        }
      ]
    },
    {
      "cell_type": "code",
      "metadata": {
        "colab": {
          "base_uri": "https://localhost:8080/"
        },
        "id": "uBgzHNOnlJmN",
        "outputId": "c8732924-20f7-4dfd-a019-187b0f50e915"
      },
      "source": [
        "df.size\n",
        "# Its product of Numbers of rows and columns present in Data set"
      ],
      "execution_count": null,
      "outputs": [
        {
          "output_type": "execute_result",
          "data": {
            "text/plain": [
              "66660"
            ]
          },
          "metadata": {},
          "execution_count": 9
        }
      ]
    },
    {
      "cell_type": "code",
      "metadata": {
        "colab": {
          "base_uri": "https://localhost:8080/"
        },
        "id": "ECHO3oeulLNi",
        "outputId": "ff74f3ca-eb9a-4107-b702-3734260a1e85"
      },
      "source": [
        "# Checking Types of Data\n",
        "df.dtypes"
      ],
      "execution_count": null,
      "outputs": [
        {
          "output_type": "execute_result",
          "data": {
            "text/plain": [
              "State                      object\n",
              "Account length              int64\n",
              "Area code                   int64\n",
              "International plan         object\n",
              "Voice mail plan            object\n",
              "Number vmail messages       int64\n",
              "Total day minutes         float64\n",
              "Total day calls             int64\n",
              "Total day charge          float64\n",
              "Total eve minutes         float64\n",
              "Total eve calls             int64\n",
              "Total eve charge          float64\n",
              "Total night minutes       float64\n",
              "Total night calls           int64\n",
              "Total night charge        float64\n",
              "Total intl minutes        float64\n",
              "Total intl calls            int64\n",
              "Total intl charge         float64\n",
              "Customer service calls      int64\n",
              "Churn                        bool\n",
              "dtype: object"
            ]
          },
          "metadata": {},
          "execution_count": 10
        }
      ]
    },
    {
      "cell_type": "code",
      "metadata": {
        "colab": {
          "base_uri": "https://localhost:8080/",
          "height": 296
        },
        "id": "1iGSQGKCloDz",
        "outputId": "82424853-1b3d-42b6-da23-2cd4e7d26e0f"
      },
      "source": [
        "# Countplot from seaborn library\n",
        "sns.countplot(x = 'Churn', data = df)"
      ],
      "execution_count": null,
      "outputs": [
        {
          "output_type": "execute_result",
          "data": {
            "text/plain": [
              "<matplotlib.axes._subplots.AxesSubplot at 0x7f586ff12890>"
            ]
          },
          "metadata": {},
          "execution_count": 9
        },
        {
          "output_type": "display_data",
          "data": {
            "image/png": "[encoded data removed]",
            "text/plain": [
              "<Figure size 432x288 with 1 Axes>"
            ]
          },
          "metadata": {
            "needs_background": "light"
          }
        }
      ]
    },
    {
      "cell_type": "markdown",
      "metadata": {
        "id": "QTQhtK50PBdt"
      },
      "source": [
        "## Categories/Classes present in Each Variable"
      ]
    },
    {
      "cell_type": "code",
      "metadata": {
        "colab": {
          "base_uri": "https://localhost:8080/"
        },
        "id": "k62KFtObl46b",
        "outputId": "c9d95349-61e0-416b-f935-34e61e3ed9bc"
      },
      "source": [
        "# For loop used to get results\n",
        "print(\"total number Categories/Classes present in Each Variable\")\n",
        "for col in df:\n",
        "    uni=df[col].nunique()\n",
        "    print(f\" {col} :- {uni}\")"
      ],
      "execution_count": null,
      "outputs": [
        {
          "output_type": "stream",
          "name": "stdout",
          "text": [
            "total number Categories/Classes present in Each Variable\n",
            " State :- 51\n",
            " Account length :- 212\n",
            " Area code :- 3\n",
            " International plan :- 2\n",
            " Voice mail plan :- 2\n",
            " Number vmail messages :- 46\n",
            " Total day minutes :- 1667\n",
            " Total day calls :- 119\n",
            " Total day charge :- 1667\n",
            " Total eve minutes :- 1611\n",
            " Total eve calls :- 123\n",
            " Total eve charge :- 1440\n",
            " Total night minutes :- 1591\n",
            " Total night calls :- 120\n",
            " Total night charge :- 933\n",
            " Total intl minutes :- 162\n",
            " Total intl calls :- 21\n",
            " Total intl charge :- 162\n",
            " Customer service calls :- 10\n",
            " Churn :- 2\n"
          ]
        }
      ]
    },
    {
      "cell_type": "markdown",
      "metadata": {
        "id": "Hb1bml9wtca_"
      },
      "source": [
        "## Categorical Analysis"
      ]
    },
    {
      "cell_type": "code",
      "metadata": {
        "colab": {
          "base_uri": "https://localhost:8080/"
        },
        "id": "HVNhLy9ytepX",
        "outputId": "0d6e8327-12f9-445e-fa37-621a96f312cd"
      },
      "source": [
        "df[\"International plan\"].value_counts()"
      ],
      "execution_count": null,
      "outputs": [
        {
          "output_type": "execute_result",
          "data": {
            "text/plain": [
              "No     3010\n",
              "Yes     323\n",
              "Name: International plan, dtype: int64"
            ]
          },
          "metadata": {},
          "execution_count": 13
        }
      ]
    },
    {
      "cell_type": "code",
      "metadata": {
        "colab": {
          "base_uri": "https://localhost:8080/"
        },
        "id": "9jWu9hYvtjx6",
        "outputId": "0f5f95dc-0e99-4a3c-dfd6-939fd8abb9f9"
      },
      "source": [
        "df[\"Voice mail plan\"].value_counts()"
      ],
      "execution_count": null,
      "outputs": [
        {
          "output_type": "execute_result",
          "data": {
            "text/plain": [
              "No     2411\n",
              "Yes     922\n",
              "Name: Voice mail plan, dtype: int64"
            ]
          },
          "metadata": {},
          "execution_count": 14
        }
      ]
    },
    {
      "cell_type": "code",
      "metadata": {
        "colab": {
          "base_uri": "https://localhost:8080/"
        },
        "id": "FBAEBBGNz2H6",
        "outputId": "6fd98048-082b-434a-ac91-94946bd6f75c"
      },
      "source": [
        "df[\"Area code\"].value_counts()"
      ],
      "execution_count": null,
      "outputs": [
        {
          "output_type": "execute_result",
          "data": {
            "text/plain": [
              "415    1655\n",
              "510     840\n",
              "408     838\n",
              "Name: Area code, dtype: int64"
            ]
          },
          "metadata": {},
          "execution_count": 15
        }
      ]
    },
    {
      "cell_type": "code",
      "metadata": {
        "colab": {
          "base_uri": "https://localhost:8080/"
        },
        "id": "5L3GQbCttt4s",
        "outputId": "b704bc01-6e12-4637-a726-9c3f027e704b"
      },
      "source": [
        "df['Churn'].value_counts()"
      ],
      "execution_count": null,
      "outputs": [
        {
          "output_type": "execute_result",
          "data": {
            "text/plain": [
              "False    2850\n",
              "True      483\n",
              "Name: Churn, dtype: int64"
            ]
          },
          "metadata": {},
          "execution_count": 16
        }
      ]
    },
    {
      "cell_type": "markdown",
      "metadata": {
        "id": "50QYLbn2tyaN"
      },
      "source": [
        "**As we seen that, Data is Imbalanced, So to make it balanced we should used any sampling techniques like SMOTE**"
      ]
    },
    {
      "cell_type": "markdown",
      "metadata": {
        "id": "u68X37OIn762"
      },
      "source": [
        "# Data Visualization"
      ]
    },
    {
      "cell_type": "code",
      "metadata": {
        "colab": {
          "base_uri": "https://localhost:8080/",
          "height": 241
        },
        "id": "JcGeq5Cp6BOz",
        "outputId": "abbcd062-9988-4337-df47-87330859b44c"
      },
      "source": [
        "df.head()"
      ],
      "execution_count": null,
      "outputs": [
        {
          "output_type": "execute_result",
          "data": {
            "text/html": [
              "<div>\n",
              "<style scoped>\n",
              "    .dataframe tbody tr th:only-of-type {\n",
              "        vertical-align: middle;\n",
              "    }\n",
              "\n",
              "    .dataframe tbody tr th {\n",
              "        vertical-align: top;\n",
              "    }\n",
              "\n",
              "    .dataframe thead th {\n",
              "        text-align: right;\n",
              "    }\n",
              "</style>\n",
              "<table border=\"1\" class=\"dataframe\">\n",
              "  <thead>\n",
              "    <tr style=\"text-align: right;\">\n",
              "      <th></th>\n",
              "      <th>State</th>\n",
              "      <th>Account length</th>\n",
              "      <th>Area code</th>\n",
              "      <th>International plan</th>\n",
              "      <th>Voice mail plan</th>\n",
              "      <th>Number vmail messages</th>\n",
              "      <th>Total day minutes</th>\n",
              "      <th>Total day calls</th>\n",
              "      <th>Total day charge</th>\n",
              "      <th>Total eve minutes</th>\n",
              "      <th>Total eve calls</th>\n",
              "      <th>Total eve charge</th>\n",
              "      <th>Total night minutes</th>\n",
              "      <th>Total night calls</th>\n",
              "      <th>Total night charge</th>\n",
              "      <th>Total intl minutes</th>\n",
              "      <th>Total intl calls</th>\n",
              "      <th>Total intl charge</th>\n",
              "      <th>Customer service calls</th>\n",
              "      <th>Churn</th>\n",
              "    </tr>\n",
              "  </thead>\n",
              "  <tbody>\n",
              "    <tr>\n",
              "      <th>0</th>\n",
              "      <td>KS</td>\n",
              "      <td>128</td>\n",
              "      <td>415</td>\n",
              "      <td>No</td>\n",
              "      <td>Yes</td>\n",
              "      <td>25</td>\n",
              "      <td>265.1</td>\n",
              "      <td>110</td>\n",
              "      <td>45.07</td>\n",
              "      <td>197.4</td>\n",
              "      <td>99</td>\n",
              "      <td>16.78</td>\n",
              "      <td>244.7</td>\n",
              "      <td>91</td>\n",
              "      <td>11.01</td>\n",
              "      <td>10.0</td>\n",
              "      <td>3</td>\n",
              "      <td>2.70</td>\n",
              "      <td>1</td>\n",
              "      <td>False</td>\n",
              "    </tr>\n",
              "    <tr>\n",
              "      <th>1</th>\n",
              "      <td>OH</td>\n",
              "      <td>107</td>\n",
              "      <td>415</td>\n",
              "      <td>No</td>\n",
              "      <td>Yes</td>\n",
              "      <td>26</td>\n",
              "      <td>161.6</td>\n",
              "      <td>123</td>\n",
              "      <td>27.47</td>\n",
              "      <td>195.5</td>\n",
              "      <td>103</td>\n",
              "      <td>16.62</td>\n",
              "      <td>254.4</td>\n",
              "      <td>103</td>\n",
              "      <td>11.45</td>\n",
              "      <td>13.7</td>\n",
              "      <td>3</td>\n",
              "      <td>3.70</td>\n",
              "      <td>1</td>\n",
              "      <td>False</td>\n",
              "    </tr>\n",
              "    <tr>\n",
              "      <th>2</th>\n",
              "      <td>NJ</td>\n",
              "      <td>137</td>\n",
              "      <td>415</td>\n",
              "      <td>No</td>\n",
              "      <td>No</td>\n",
              "      <td>0</td>\n",
              "      <td>243.4</td>\n",
              "      <td>114</td>\n",
              "      <td>41.38</td>\n",
              "      <td>121.2</td>\n",
              "      <td>110</td>\n",
              "      <td>10.30</td>\n",
              "      <td>162.6</td>\n",
              "      <td>104</td>\n",
              "      <td>7.32</td>\n",
              "      <td>12.2</td>\n",
              "      <td>5</td>\n",
              "      <td>3.29</td>\n",
              "      <td>0</td>\n",
              "      <td>False</td>\n",
              "    </tr>\n",
              "    <tr>\n",
              "      <th>3</th>\n",
              "      <td>OH</td>\n",
              "      <td>84</td>\n",
              "      <td>408</td>\n",
              "      <td>Yes</td>\n",
              "      <td>No</td>\n",
              "      <td>0</td>\n",
              "      <td>299.4</td>\n",
              "      <td>71</td>\n",
              "      <td>50.90</td>\n",
              "      <td>61.9</td>\n",
              "      <td>88</td>\n",
              "      <td>5.26</td>\n",
              "      <td>196.9</td>\n",
              "      <td>89</td>\n",
              "      <td>8.86</td>\n",
              "      <td>6.6</td>\n",
              "      <td>7</td>\n",
              "      <td>1.78</td>\n",
              "      <td>2</td>\n",
              "      <td>False</td>\n",
              "    </tr>\n",
              "    <tr>\n",
              "      <th>4</th>\n",
              "      <td>OK</td>\n",
              "      <td>75</td>\n",
              "      <td>415</td>\n",
              "      <td>Yes</td>\n",
              "      <td>No</td>\n",
              "      <td>0</td>\n",
              "      <td>166.7</td>\n",
              "      <td>113</td>\n",
              "      <td>28.34</td>\n",
              "      <td>148.3</td>\n",
              "      <td>122</td>\n",
              "      <td>12.61</td>\n",
              "      <td>186.9</td>\n",
              "      <td>121</td>\n",
              "      <td>8.41</td>\n",
              "      <td>10.1</td>\n",
              "      <td>3</td>\n",
              "      <td>2.73</td>\n",
              "      <td>3</td>\n",
              "      <td>False</td>\n",
              "    </tr>\n",
              "  </tbody>\n",
              "</table>\n",
              "</div>"
            ],
            "text/plain": [
              "  State  Account length  ...  Customer service calls  Churn\n",
              "0    KS             128  ...                       1  False\n",
              "1    OH             107  ...                       1  False\n",
              "2    NJ             137  ...                       0  False\n",
              "3    OH              84  ...                       2  False\n",
              "4    OK              75  ...                       3  False\n",
              "\n",
              "[5 rows x 20 columns]"
            ]
          },
          "metadata": {},
          "execution_count": 17
        }
      ]
    },
    {
      "cell_type": "markdown",
      "metadata": {
        "id": "_HQUTcaKGhlF"
      },
      "source": [
        "## Let's visualise, what percent of the churn is company suffering ?"
      ]
    },
    {
      "cell_type": "code",
      "metadata": {
        "colab": {
          "base_uri": "https://localhost:8080/",
          "height": 112
        },
        "id": "t6mPowtmFV4S",
        "outputId": "234ec3a6-bc92-4c15-eeec-968989a12290"
      },
      "source": [
        "df_churn=pd.DataFrame(df[\"Churn\"].value_counts()).reset_index()\n",
        "df_churn.head()"
      ],
      "execution_count": null,
      "outputs": [
        {
          "output_type": "execute_result",
          "data": {
            "text/html": [
              "<div>\n",
              "<style scoped>\n",
              "    .dataframe tbody tr th:only-of-type {\n",
              "        vertical-align: middle;\n",
              "    }\n",
              "\n",
              "    .dataframe tbody tr th {\n",
              "        vertical-align: top;\n",
              "    }\n",
              "\n",
              "    .dataframe thead th {\n",
              "        text-align: right;\n",
              "    }\n",
              "</style>\n",
              "<table border=\"1\" class=\"dataframe\">\n",
              "  <thead>\n",
              "    <tr style=\"text-align: right;\">\n",
              "      <th></th>\n",
              "      <th>index</th>\n",
              "      <th>Churn</th>\n",
              "    </tr>\n",
              "  </thead>\n",
              "  <tbody>\n",
              "    <tr>\n",
              "      <th>0</th>\n",
              "      <td>False</td>\n",
              "      <td>2850</td>\n",
              "    </tr>\n",
              "    <tr>\n",
              "      <th>1</th>\n",
              "      <td>True</td>\n",
              "      <td>483</td>\n",
              "    </tr>\n",
              "  </tbody>\n",
              "</table>\n",
              "</div>"
            ],
            "text/plain": [
              "   index  Churn\n",
              "0  False   2850\n",
              "1   True    483"
            ]
          },
          "metadata": {},
          "execution_count": 18
        }
      ]
    },
    {
      "cell_type": "code",
      "metadata": {
        "colab": {
          "base_uri": "https://localhost:8080/",
          "height": 319
        },
        "id": "IkF20jTDEnVe",
        "outputId": "2d649318-c85f-424f-c75a-4ad7bf132201"
      },
      "source": [
        "# Donut chart used to visualize churn\n",
        "plt.figure(figsize=(10, 5))\n",
        "plt.pie(df_churn[\"Churn\"], labels=df_churn[\"index\"], autopct='%1.2f%%')\n",
        "plt.title('Churn rate Visualization')\n",
        "circle = plt.Circle( (0,0), 0.4, color='white')\n",
        "p=plt.gcf()\n",
        "p.gca().add_artist(circle)\n",
        "plt.show()"
      ],
      "execution_count": null,
      "outputs": [
        {
          "output_type": "display_data",
          "data": {
            "image/png": "[encoded data removed]",
            "text/plain": [
              "<Figure size 720x360 with 1 Axes>"
            ]
          },
          "metadata": {}
        }
      ]
    },
    {
      "cell_type": "markdown",
      "metadata": {
        "id": "8d9rpUs5hmTA"
      },
      "source": [
        "**Here we can see that, around 14 % customers have churned**"
      ]
    },
    {
      "cell_type": "markdown",
      "metadata": {
        "id": "Hfip3XMBJWqW"
      },
      "source": [
        "## Digging into the Area wise customers distribution and their respective churn rate"
      ]
    },
    {
      "cell_type": "code",
      "metadata": {
        "colab": {
          "base_uri": "https://localhost:8080/"
        },
        "id": "Dugf1a0FU3LW",
        "outputId": "ca570457-a17e-49a0-f8ca-df4d29222ec6"
      },
      "source": [
        "df_area = df.groupby(['Area code'])['Churn'].sum()\n",
        "df_area.head()"
      ],
      "execution_count": null,
      "outputs": [
        {
          "output_type": "execute_result",
          "data": {
            "text/plain": [
              "Area code\n",
              "408    122\n",
              "415    236\n",
              "510    125\n",
              "Name: Churn, dtype: int64"
            ]
          },
          "metadata": {},
          "execution_count": 20
        }
      ]
    },
    {
      "cell_type": "markdown",
      "metadata": {
        "id": "arNxMssDaytO"
      },
      "source": [
        "## Area wise customer Distribution"
      ]
    },
    {
      "cell_type": "code",
      "metadata": {
        "colab": {
          "base_uri": "https://localhost:8080/",
          "height": 367
        },
        "id": "P2oqjsmoT1Js",
        "outputId": "49b899ae-567b-48e4-ddd5-0be9c70e5ce4"
      },
      "source": [
        "# Countplot for area wise churn rate\n",
        "plt.figure(figsize=(10,5))\n",
        "sns.countplot(x=\"Area code\", data=df,hue=\"Churn\")\n",
        "plt.title('Area wise churn rate')\n",
        "plt.xlabel('Area Codes')\n",
        "plt.ylabel('Customers')"
      ],
      "execution_count": null,
      "outputs": [
        {
          "output_type": "execute_result",
          "data": {
            "text/plain": [
              "Text(0, 0.5, 'Customers')"
            ]
          },
          "metadata": {},
          "execution_count": 11
        },
        {
          "output_type": "display_data",
          "data": {
            "image/png": "[encoded data removed]",
            "text/plain": [
              "<Figure size 720x360 with 1 Axes>"
            ]
          },
          "metadata": {
            "needs_background": "light"
          }
        }
      ]
    },
    {
      "cell_type": "markdown",
      "metadata": {
        "id": "jUS6wpKsbJFt"
      },
      "source": [
        "**For 415 Number area code ,Maximum customers churned compared to the others**\n",
        "\n",
        "**For 408 Area Code \n",
        " minimum number of \n",
        "customers are churned**"
      ]
    },
    {
      "cell_type": "markdown",
      "metadata": {
        "id": "SeGJ0jXjKP7g"
      },
      "source": [
        "## Checking the distributions of the features"
      ]
    },
    {
      "cell_type": "code",
      "metadata": {
        "colab": {
          "base_uri": "https://localhost:8080/",
          "height": 586
        },
        "id": "PHkiMfyYn8wK",
        "outputId": "9482e5ba-cf88-4350-fa23-06d7867dd861"
      },
      "source": [
        "# Histogram to check normal distribution\n",
        "features = [\"Total night calls\",'Total intl calls','Total day charge',\"Customer service calls\"]\n",
        "df[features].hist(figsize=(10,8))\n",
        "#y-axis represents the total number of customers while the x-axis represents the corresponding feature. "
      ],
      "execution_count": null,
      "outputs": [
        {
          "output_type": "execute_result",
          "data": {
            "text/plain": [
              "array([[<matplotlib.axes._subplots.AxesSubplot object at 0x7f586e645a50>,\n",
              "        <matplotlib.axes._subplots.AxesSubplot object at 0x7f586e5eab90>],\n",
              "       [<matplotlib.axes._subplots.AxesSubplot object at 0x7f586e5ab1d0>,\n",
              "        <matplotlib.axes._subplots.AxesSubplot object at 0x7f586e5617d0>]],\n",
              "      dtype=object)"
            ]
          },
          "metadata": {},
          "execution_count": 12
        },
        {
          "output_type": "display_data",
          "data": {
            "image/png": "[encoded data removed]",
            "text/plain": [
              "<Figure size 720x576 with 4 Axes>"
            ]
          },
          "metadata": {
            "needs_background": "light"
          }
        }
      ]
    },
    {
      "cell_type": "markdown",
      "metadata": {
        "id": "rn-9uyareI_p"
      },
      "source": [
        "**- Maximum customers made**  \n",
        "**1. 90 to 120 numbers of calls in night**\n",
        "\n",
        "**2. Around 2 to 6 International Calls**\n",
        "\n",
        "**3. 1 to 2 Customer service calls**\n",
        "\n",
        "- Maximum customers charged around 25 to 30 units cost\n",
        "- From above graph, we observe that \n",
        "1. Total Eve Minutes is Symmetric (No Skew)\n",
        "2. Total international calls is Positively Skewed\n",
        "3. Total day Minutes is roughly Symmetric\n",
        "4. Account Length is roughly Symmetric\n"
      ]
    },
    {
      "cell_type": "markdown",
      "metadata": {
        "id": "zdrpwKJY_OJZ"
      },
      "source": [
        "## How Voice mail messages are affecting to Churn ?"
      ]
    },
    {
      "cell_type": "code",
      "metadata": {
        "colab": {
          "base_uri": "https://localhost:8080/",
          "height": 279
        },
        "id": "TS2g1ADVYgcM",
        "outputId": "da6a63e9-6cab-47dc-ff56-b6a6c6c82496"
      },
      "source": [
        "# Box plot\n",
        "sns.boxplot(x='Churn', y='Number vmail messages', data = df)\n",
        "plt.show()"
      ],
      "execution_count": null,
      "outputs": [
        {
          "output_type": "display_data",
          "data": {
            "image/png": "[encoded data removed]",
            "text/plain": [
              "<Figure size 432x288 with 1 Axes>"
            ]
          },
          "metadata": {
            "needs_background": "light"
          }
        }
      ]
    },
    {
      "cell_type": "markdown",
      "metadata": {
        "id": "2gNWwM6H_7g3"
      },
      "source": [
        "**We can notice here for Vmail messages Feature, when there are more than 15 voice-mail messages then certainly there is a churn**\n",
        "\n",
        "According to Analysis :\n",
        "1. Voice-Mail Service Upgradation required\n",
        "2. Setting up a limit on Voice-Mail service strictly no more than 25 voice mails. \n",
        "3. Quality Drop in Voice-Mail after around 25 voice mails."
      ]
    },
    {
      "cell_type": "markdown",
      "metadata": {
        "id": "tHocwJrXlhTZ"
      },
      "source": [
        "## How amount of time spending by customer on calls affecting to the churning ?"
      ]
    },
    {
      "cell_type": "code",
      "metadata": {
        "colab": {
          "base_uri": "https://localhost:8080/",
          "height": 334
        },
        "id": "erWXe3tAY-dr",
        "outputId": "2a1aa431-3ef3-4dd7-fe63-01eb6b86ca48"
      },
      "source": [
        "# Combined Box plots\n",
        "_, axes = plt.subplots(1, 4, figsize=(19, 5))\n",
        "\n",
        "sns.boxplot(x='Churn', y='Total day minutes', data = df, ax = axes[0]);\n",
        "sns.boxplot(x='Churn', y='Total eve minutes', data = df, ax = axes[1]);\n",
        "sns.boxplot(x='Churn', y='Total night minutes', data = df, ax = axes[2]);\n",
        "sns.boxplot(x='Churn', y='Total intl minutes', data = df, ax = axes[3]);"
      ],
      "execution_count": null,
      "outputs": [
        {
          "output_type": "display_data",
          "data": {
            "image/png": "[encoded data removed]",
            "text/plain": [
              "<Figure size 1368x360 with 4 Axes>"
            ]
          },
          "metadata": {
            "needs_background": "light"
          }
        }
      ]
    },
    {
      "cell_type": "markdown",
      "metadata": {
        "id": "zl3LxEpKAuvF"
      },
      "source": [
        "**We can observe from above box-plot that**\n",
        " \n",
        "**-the customer who left the service provider spent more minutes in all types(day,night,eve,intl) of calls..**\n",
        "\n",
        "**- churned customers have tendancy to call more than 4 international calls**\n",
        "- According to analysis, following would be the factors that should be implemented: \n",
        "\n",
        "1. Network Disturbance during a Call\n",
        "2. Cracking sound or noise during a call\n",
        "\n",
        "**Recommendations:**\n",
        "1. Need to use smart technologies like VoLTE to improve Voice Quality.\n",
        "2. Network Upgradation"
      ]
    },
    {
      "cell_type": "markdown",
      "metadata": {
        "id": "ugfmPu8El-5b"
      },
      "source": [
        "## Frequnency of calls responsible to churn the customers"
      ]
    },
    {
      "cell_type": "code",
      "metadata": {
        "colab": {
          "base_uri": "https://localhost:8080/",
          "height": 351
        },
        "id": "Vx-4ECIWW7v8",
        "outputId": "d910ac43-d5ce-435f-aa15-17eaff4740d5"
      },
      "source": [
        "_, axes = plt.subplots(1, 4, figsize=(19, 5))\n",
        "\n",
        "sns.boxplot(x='Churn', y='Total day calls', data = df, ax = axes[0])\n",
        "sns.boxplot(x='Churn', y='Total eve calls', data = df, ax = axes[1])\n",
        "sns.boxplot(x='Churn', y='Total night calls', data = df, ax = axes[2])\n",
        "sns.boxplot(x='Churn', y='Total intl calls', data = df, ax = axes[3])"
      ],
      "execution_count": null,
      "outputs": [
        {
          "output_type": "execute_result",
          "data": {
            "text/plain": [
              "<matplotlib.axes._subplots.AxesSubplot at 0x7fd28ef92990>"
            ]
          },
          "metadata": {},
          "execution_count": 25
        },
        {
          "output_type": "display_data",
          "data": {
            "image/png": "[encoded data removed]",
            "text/plain": [
              "<Figure size 1368x360 with 4 Axes>"
            ]
          },
          "metadata": {
            "needs_background": "light"
          }
        }
      ]
    },
    {
      "cell_type": "markdown",
      "metadata": {
        "id": "SOY4XpFDBUxI"
      },
      "source": [
        "**- Here we can conclude that, for the churn customer, the median is slightly higher than 100 which indicates there are call drops which may lead to more calls done by customer.**\n",
        "\n",
        "**- As seen from graphs,customers made less than 50 calls mostly, they have not churned**"
      ]
    },
    {
      "cell_type": "markdown",
      "metadata": {
        "id": "syz8iFc1mXJW"
      },
      "source": [
        "## How charging for calls will affect to the churn?"
      ]
    },
    {
      "cell_type": "code",
      "metadata": {
        "colab": {
          "base_uri": "https://localhost:8080/",
          "height": 334
        },
        "id": "5eiKDLi-ZEIg",
        "outputId": "41d33fa2-f57e-4f5a-e478-c7bb69d5dad0"
      },
      "source": [
        "_, axes = plt.subplots(1, 4, figsize=(19, 5))\n",
        "\n",
        "sns.boxplot(x='Churn', y='Total day charge', data = df, ax = axes[0]);\n",
        "sns.boxplot(x='Churn', y='Total eve charge', data = df, ax = axes[1]);\n",
        "sns.boxplot(x='Churn', y='Total night charge', data = df, ax = axes[2]);\n",
        "sns.boxplot(x='Churn', y='Total intl charge', data = df, ax = axes[3]);"
      ],
      "execution_count": null,
      "outputs": [
        {
          "output_type": "display_data",
          "data": {
            "image/png": "[encoded data removed]",
            "text/plain": [
              "<Figure size 1368x360 with 4 Axes>"
            ]
          },
          "metadata": {
            "needs_background": "light"
          }
        }
      ]
    },
    {
      "cell_type": "markdown",
      "metadata": {
        "id": "eNpoCUz-BjDn"
      },
      "source": [
        "**Well,Here we can clearly observe that a good strategy to be implemented. As from above infered box-plots we can conclude one thing i.e Customers having more minutes spent on the network tend to leave the it's subscription.**\n",
        "\n",
        "**from the above box-plot it clearly indicates that there is defect in the pricing startegy of the company.**\n",
        "- **According to Analysis, Recommendations would be:**\n",
        "\n",
        "1. Startegy of pricing needs to be re-evaluated.\n",
        "2. Premium customers should be offered prioritized services and good discounts."
      ]
    },
    {
      "cell_type": "markdown",
      "metadata": {
        "id": "yKwL4WoPClwW"
      },
      "source": [
        "## Let find States wise churn behaviour"
      ]
    },
    {
      "cell_type": "code",
      "metadata": {
        "colab": {
          "base_uri": "https://localhost:8080/",
          "height": 336
        },
        "id": "0ZZzLwliT3gO",
        "outputId": "aecbfbbb-feac-4254-ad19-7809f853aa91"
      },
      "source": [
        "# Count plot to show state wise churning\n",
        "fig, axz = plt.subplots(figsize=(20,5))\n",
        "\n",
        "axz = sns.countplot(x='State', hue='Churn', data=df, palette='Reds',order =df['State'].value_counts().index)\n",
        "\n",
        "\n",
        "axz.set_ylabel('COUNTS', rotation=0, labelpad=100,size=10)\n",
        "axz.set_xlabel('State', size=10)\n",
        "axz.yaxis.set_label_coords(0.05, 0.95)  # (x, y)\n",
        "axz.legend(loc=0,fontsize=10);\n",
        "\n",
        "axz.tick_params(labelsize=10)"
      ],
      "execution_count": null,
      "outputs": [
        {
          "output_type": "display_data",
          "data": {
            "image/png": "[encoded data removed]",
            "text/plain": [
              "<Figure size 1440x360 with 1 Axes>"
            ]
          },
          "metadata": {
            "needs_background": "light"
          }
        }
      ]
    },
    {
      "cell_type": "markdown",
      "metadata": {
        "id": "gO9v2aKoDcjS"
      },
      "source": [
        "**Conclusion:**\n",
        "\n",
        "**-Number of people Churned are higher in Texas(TX),Maryland (MD).**\n",
        "\n",
        "**-It may be due to high competition from rival telecom companies.**\n",
        "\n",
        "**-A Network Upgradation would be strongly suggested in these areas.**"
      ]
    },
    {
      "cell_type": "markdown",
      "metadata": {
        "id": "pfzDscIc-KJ3"
      },
      "source": [
        "## Finding top 10 states from where more customers are associated with company"
      ]
    },
    {
      "cell_type": "code",
      "metadata": {
        "colab": {
          "base_uri": "https://localhost:8080/",
          "height": 518
        },
        "id": "js-eCCoD6SvS",
        "outputId": "32445e14-c792-4c49-be81-c56b1b24e170"
      },
      "source": [
        "# Bar plot to identify top 10 States\n",
        "df_state = df.groupby(['State']).count().iloc[:,0]\n",
        "df_state = pd.DataFrame(df_state.sort_values(ascending=False))[0:10]\n",
        "States = df_state.index\n",
        "df_state.columns = ['Customers']\n",
        "\n",
        "plt.figure(figsize=(12,8))\n",
        "sns.barplot(y = States , x = 'Customers', data=df_state)\n",
        "plt.xlabel(\"Number of Customers\")\n",
        "plt.ylabel(\"State\")\n",
        "plt.title(\"Top 10 States\",fontsize=20)\n",
        "plt.show()"
      ],
      "execution_count": null,
      "outputs": [
        {
          "output_type": "display_data",
          "data": {
            "image/png": "[encoded data removed]",
            "text/plain": [
              "<Figure size 864x576 with 1 Axes>"
            ]
          },
          "metadata": {
            "needs_background": "light"
          }
        }
      ]
    },
    {
      "cell_type": "markdown",
      "metadata": {
        "id": "IW0CG_W8pWkV"
      },
      "source": [
        "**The State having state code WV has highest number of customers associated with the company**"
      ]
    },
    {
      "cell_type": "markdown",
      "metadata": {
        "id": "DIyIxWbjD-gD"
      },
      "source": [
        "## How Customer service calls affects on churn ?\n"
      ]
    },
    {
      "cell_type": "code",
      "metadata": {
        "colab": {
          "base_uri": "https://localhost:8080/",
          "height": 334
        },
        "id": "GmU3gD3QYiMl",
        "outputId": "735ddc95-e222-4414-fe56-9887a08a7df2"
      },
      "source": [
        "# Count plot to find number of customer service calls\n",
        "fig, csc = plt.subplots(figsize=(20,5))\n",
        "\n",
        "csc = sns.countplot(x='Customer service calls', hue='Churn', data=df)\n",
        "\n",
        "csc.set_ylabel('Counts', rotation=0, labelpad=100,size=10)\n",
        "csc.set_xlabel('Customer Service Calls', size=10)\n",
        "csc.yaxis.set_label_coords(-0.05, 0.95)  # (x, y)\n",
        "csc.legend(loc=0,fontsize=10);\n",
        "\n",
        "csc.tick_params(labelsize=10)"
      ],
      "execution_count": null,
      "outputs": [
        {
          "output_type": "display_data",
          "data": {
            "image/png": "[encoded data removed]",
            "text/plain": [
              "<Figure size 1440x360 with 1 Axes>"
            ]
          },
          "metadata": {
            "needs_background": "light"
          }
        }
      ]
    },
    {
      "cell_type": "markdown",
      "metadata": {
        "id": "s0-UASV-Eh_2"
      },
      "source": [
        "**Conclusion:**\n",
        "\n",
        "**While some customers are lazy and hence without resolving the issue they have jumped to other telecom company,while the customers who have called once also have high churn rate indicating their issue was not solved in first attempt.**\n",
        "\n",
        "**As well as we can see that, customers those have called customer service more than 3 times, the rate of churn is found to be higher.It means that, company should give more training to the customer service department to retain customers.**\n",
        "\n",
        "**As per analysis some recommendations to the customer call service department:**\n",
        "- Company should take actions regarding to the customer feedbacks time to time.\n",
        "- Company should also be fixing the gaps if any in training customer service executives."
      ]
    },
    {
      "cell_type": "markdown",
      "metadata": {
        "id": "BWFNfUG6FTKP"
      },
      "source": [
        "## Finding hidden patterns with Correlation in Data"
      ]
    },
    {
      "cell_type": "code",
      "metadata": {
        "colab": {
          "base_uri": "https://localhost:8080/",
          "height": 618
        },
        "id": "JcKVgV0PEzUn",
        "outputId": "f9ac0aca-60bc-4dfc-d0e9-23fe4b9ddb6d"
      },
      "source": [
        "# Plotting heat map to identify correlation between variables\n",
        "plt.figure(figsize=(10, 8))\n",
        "sns.heatmap(df.corr(), annot=True,fmt=\".2f\")"
      ],
      "execution_count": null,
      "outputs": [
        {
          "output_type": "execute_result",
          "data": {
            "text/plain": [
              "<matplotlib.axes._subplots.AxesSubplot at 0x7fd28e72d790>"
            ]
          },
          "metadata": {},
          "execution_count": 30
        },
        {
          "output_type": "display_data",
          "data": {
            "image/png": "[encoded data removed]",
            "text/plain": [
              "<Figure size 720x576 with 2 Axes>"
            ]
          },
          "metadata": {
            "needs_background": "light"
          }
        }
      ]
    },
    {
      "cell_type": "markdown",
      "metadata": {
        "id": "0AOA2xVANRko"
      },
      "source": [
        "**Conclusion**\n",
        "\n",
        "**Here we can see that,Total day minute,Total day charge and Customer service calls variables are highly impacted on customer's decision on churn.**"
      ]
    },
    {
      "cell_type": "markdown",
      "metadata": {
        "id": "FLw8lHk8g8nW"
      },
      "source": [
        "## Feature Importance\n",
        "\n",
        "Let's try to figure out what all features we impact the most for customer churn through Feature importances "
      ]
    },
    {
      "cell_type": "code",
      "metadata": {
        "id": "yu-jAuR6hA17"
      },
      "source": [
        "x = df.iloc[:, 0:19]"
      ],
      "execution_count": null,
      "outputs": []
    },
    {
      "cell_type": "code",
      "metadata": {
        "colab": {
          "base_uri": "https://localhost:8080/",
          "height": 241
        },
        "id": "bbUSVkN3hGVB",
        "outputId": "c62fd9ad-eee5-4438-ce6e-3e568505939c"
      },
      "source": [
        "x = x.replace({'Voice mail plan':{'Yes':1,'No':0}})\n",
        "x = x.replace({'International plan':{'Yes':1,'No':0}})\n",
        "x.head()"
      ],
      "execution_count": null,
      "outputs": [
        {
          "output_type": "execute_result",
          "data": {
            "text/html": [
              "<div>\n",
              "<style scoped>\n",
              "    .dataframe tbody tr th:only-of-type {\n",
              "        vertical-align: middle;\n",
              "    }\n",
              "\n",
              "    .dataframe tbody tr th {\n",
              "        vertical-align: top;\n",
              "    }\n",
              "\n",
              "    .dataframe thead th {\n",
              "        text-align: right;\n",
              "    }\n",
              "</style>\n",
              "<table border=\"1\" class=\"dataframe\">\n",
              "  <thead>\n",
              "    <tr style=\"text-align: right;\">\n",
              "      <th></th>\n",
              "      <th>State</th>\n",
              "      <th>Account length</th>\n",
              "      <th>Area code</th>\n",
              "      <th>International plan</th>\n",
              "      <th>Voice mail plan</th>\n",
              "      <th>Number vmail messages</th>\n",
              "      <th>Total day minutes</th>\n",
              "      <th>Total day calls</th>\n",
              "      <th>Total day charge</th>\n",
              "      <th>Total eve minutes</th>\n",
              "      <th>Total eve calls</th>\n",
              "      <th>Total eve charge</th>\n",
              "      <th>Total night minutes</th>\n",
              "      <th>Total night calls</th>\n",
              "      <th>Total night charge</th>\n",
              "      <th>Total intl minutes</th>\n",
              "      <th>Total intl calls</th>\n",
              "      <th>Total intl charge</th>\n",
              "      <th>Customer service calls</th>\n",
              "    </tr>\n",
              "  </thead>\n",
              "  <tbody>\n",
              "    <tr>\n",
              "      <th>0</th>\n",
              "      <td>KS</td>\n",
              "      <td>128</td>\n",
              "      <td>415</td>\n",
              "      <td>0</td>\n",
              "      <td>1</td>\n",
              "      <td>25</td>\n",
              "      <td>265.1</td>\n",
              "      <td>110</td>\n",
              "      <td>45.07</td>\n",
              "      <td>197.4</td>\n",
              "      <td>99</td>\n",
              "      <td>16.78</td>\n",
              "      <td>244.7</td>\n",
              "      <td>91</td>\n",
              "      <td>11.01</td>\n",
              "      <td>10.0</td>\n",
              "      <td>3</td>\n",
              "      <td>2.70</td>\n",
              "      <td>1</td>\n",
              "    </tr>\n",
              "    <tr>\n",
              "      <th>1</th>\n",
              "      <td>OH</td>\n",
              "      <td>107</td>\n",
              "      <td>415</td>\n",
              "      <td>0</td>\n",
              "      <td>1</td>\n",
              "      <td>26</td>\n",
              "      <td>161.6</td>\n",
              "      <td>123</td>\n",
              "      <td>27.47</td>\n",
              "      <td>195.5</td>\n",
              "      <td>103</td>\n",
              "      <td>16.62</td>\n",
              "      <td>254.4</td>\n",
              "      <td>103</td>\n",
              "      <td>11.45</td>\n",
              "      <td>13.7</td>\n",
              "      <td>3</td>\n",
              "      <td>3.70</td>\n",
              "      <td>1</td>\n",
              "    </tr>\n",
              "    <tr>\n",
              "      <th>2</th>\n",
              "      <td>NJ</td>\n",
              "      <td>137</td>\n",
              "      <td>415</td>\n",
              "      <td>0</td>\n",
              "      <td>0</td>\n",
              "      <td>0</td>\n",
              "      <td>243.4</td>\n",
              "      <td>114</td>\n",
              "      <td>41.38</td>\n",
              "      <td>121.2</td>\n",
              "      <td>110</td>\n",
              "      <td>10.30</td>\n",
              "      <td>162.6</td>\n",
              "      <td>104</td>\n",
              "      <td>7.32</td>\n",
              "      <td>12.2</td>\n",
              "      <td>5</td>\n",
              "      <td>3.29</td>\n",
              "      <td>0</td>\n",
              "    </tr>\n",
              "    <tr>\n",
              "      <th>3</th>\n",
              "      <td>OH</td>\n",
              "      <td>84</td>\n",
              "      <td>408</td>\n",
              "      <td>1</td>\n",
              "      <td>0</td>\n",
              "      <td>0</td>\n",
              "      <td>299.4</td>\n",
              "      <td>71</td>\n",
              "      <td>50.90</td>\n",
              "      <td>61.9</td>\n",
              "      <td>88</td>\n",
              "      <td>5.26</td>\n",
              "      <td>196.9</td>\n",
              "      <td>89</td>\n",
              "      <td>8.86</td>\n",
              "      <td>6.6</td>\n",
              "      <td>7</td>\n",
              "      <td>1.78</td>\n",
              "      <td>2</td>\n",
              "    </tr>\n",
              "    <tr>\n",
              "      <th>4</th>\n",
              "      <td>OK</td>\n",
              "      <td>75</td>\n",
              "      <td>415</td>\n",
              "      <td>1</td>\n",
              "      <td>0</td>\n",
              "      <td>0</td>\n",
              "      <td>166.7</td>\n",
              "      <td>113</td>\n",
              "      <td>28.34</td>\n",
              "      <td>148.3</td>\n",
              "      <td>122</td>\n",
              "      <td>12.61</td>\n",
              "      <td>186.9</td>\n",
              "      <td>121</td>\n",
              "      <td>8.41</td>\n",
              "      <td>10.1</td>\n",
              "      <td>3</td>\n",
              "      <td>2.73</td>\n",
              "      <td>3</td>\n",
              "    </tr>\n",
              "  </tbody>\n",
              "</table>\n",
              "</div>"
            ],
            "text/plain": [
              "  State  Account length  ...  Total intl charge  Customer service calls\n",
              "0    KS             128  ...               2.70                       1\n",
              "1    OH             107  ...               3.70                       1\n",
              "2    NJ             137  ...               3.29                       0\n",
              "3    OH              84  ...               1.78                       2\n",
              "4    OK              75  ...               2.73                       3\n",
              "\n",
              "[5 rows x 19 columns]"
            ]
          },
          "metadata": {},
          "execution_count": 22
        }
      ]
    },
    {
      "cell_type": "code",
      "metadata": {
        "id": "YEg9nmlshKBe"
      },
      "source": [
        "y = df.iloc[:, 19:]"
      ],
      "execution_count": null,
      "outputs": []
    },
    {
      "cell_type": "code",
      "metadata": {
        "id": "F-VSyvPchMgr"
      },
      "source": [
        "y = y.replace({'Churn':{True:1,False:0}})"
      ],
      "execution_count": null,
      "outputs": []
    },
    {
      "cell_type": "code",
      "metadata": {
        "id": "JL1yRI5bhSQy"
      },
      "source": [
        "from sklearn.ensemble import RandomForestClassifier"
      ],
      "execution_count": null,
      "outputs": []
    },
    {
      "cell_type": "code",
      "metadata": {
        "colab": {
          "base_uri": "https://localhost:8080/"
        },
        "id": "wgypbW4khWBs",
        "outputId": "66a6e772-c27c-4066-be18-145baf1ffa52"
      },
      "source": [
        "len(df['State'].unique())"
      ],
      "execution_count": null,
      "outputs": [
        {
          "output_type": "execute_result",
          "data": {
            "text/plain": [
              "51"
            ]
          },
          "metadata": {},
          "execution_count": 26
        }
      ]
    },
    {
      "cell_type": "code",
      "metadata": {
        "id": "VuWumiJDhZW7"
      },
      "source": [
        "repl = dict(zip(list(df['State'].unique()), list(range(0,51))))"
      ],
      "execution_count": null,
      "outputs": []
    },
    {
      "cell_type": "code",
      "metadata": {
        "id": "jFJtZQ41hdXl"
      },
      "source": [
        "x = x.replace(repl)"
      ],
      "execution_count": null,
      "outputs": []
    },
    {
      "cell_type": "code",
      "metadata": {
        "colab": {
          "base_uri": "https://localhost:8080/"
        },
        "id": "OfEAIZ1pZ3de",
        "outputId": "d725b374-f3e0-4c48-81c2-59c5364e95f9"
      },
      "source": [
        "rf = RandomForestClassifier(n_estimators=100)\n",
        "rf.fit(x, y)"
      ],
      "execution_count": null,
      "outputs": [
        {
          "output_type": "execute_result",
          "data": {
            "text/plain": [
              "RandomForestClassifier()"
            ]
          },
          "metadata": {},
          "execution_count": 29
        }
      ]
    },
    {
      "cell_type": "code",
      "metadata": {
        "colab": {
          "base_uri": "https://localhost:8080/"
        },
        "id": "IUkmzmjLZ8Yw",
        "outputId": "fd5708b3-498e-4f36-c048-43cece12784d"
      },
      "source": [
        "fi = rf.feature_importances_\n",
        "fi"
      ],
      "execution_count": null,
      "outputs": [
        {
          "output_type": "execute_result",
          "data": {
            "text/plain": [
              "array([0.02944512, 0.02881137, 0.0074484 , 0.08026115, 0.02037313,\n",
              "       0.02827296, 0.13834225, 0.03059454, 0.13069213, 0.06770622,\n",
              "       0.02692188, 0.06382274, 0.03575604, 0.02802603, 0.03646223,\n",
              "       0.03783972, 0.0510142 , 0.04012462, 0.11808525])"
            ]
          },
          "metadata": {},
          "execution_count": 30
        }
      ]
    },
    {
      "cell_type": "code",
      "metadata": {
        "colab": {
          "base_uri": "https://localhost:8080/",
          "height": 282
        },
        "id": "Zq1IBfv1Z_Nl",
        "outputId": "8c82f96c-326c-4955-eccc-719222fbc490"
      },
      "source": [
        "# Graphical visualization of Feature Importance \n",
        "plt.barh( list(df.columns)[:19], fi )"
      ],
      "execution_count": null,
      "outputs": [
        {
          "output_type": "execute_result",
          "data": {
            "text/plain": [
              "<BarContainer object of 19 artists>"
            ]
          },
          "metadata": {},
          "execution_count": 31
        },
        {
          "output_type": "display_data",
          "data": {
            "image/png": "[encoded data removed]",
            "text/plain": [
              "<Figure size 432x288 with 1 Axes>"
            ]
          },
          "metadata": {
            "needs_background": "light"
          }
        }
      ]
    },
    {
      "cell_type": "markdown",
      "metadata": {
        "id": "pm2aEwczXE__"
      },
      "source": [
        "**As we can see in the bar plot, Total day charge, Total day minutes, customer service calls are the three most important factors which determine churn. So in order to improve customer retention Orange telecom can offer recharges at reduced tariff than competitors to attract customers to talk more daily, which will in turn also increase the daily charge.**"
      ]
    },
    {
      "cell_type": "markdown",
      "metadata": {
        "id": "FJ1Ew4svItyn"
      },
      "source": [
        "# Conclusion!"
      ]
    },
    {
      "cell_type": "markdown",
      "metadata": {
        "id": "YiAIavy4Iyr1"
      },
      "source": [
        "In the highly competitive market of the Telecom industry, Customer retention becomes the most important concern for every telecom company. Service standardization and good quality customer policies allows customers to change their preferences from one company to another company in today’s competitive market. Understanding churn or the challenge of identifying customers who are going to churn is a more hectic issue in front of the telecom industry.\n",
        "\n",
        "**The factors responsible for the customer would be the quality of calls made by customers, satisfaction level for the service, Difference in charge rates, working style of customer service department.**\n"
      ]
    },
    {
      "cell_type": "markdown",
      "metadata": {
        "id": "3QtxTwUnI0l3"
      },
      "source": [
        "**Apart from Conclusion there are several causes those might be responsible for churn of customers.**\n",
        "\n",
        "**Bill shock:** this occurs when a customer has an unusually large service usage,\n",
        "which results in an important “out of bundle” amount (i.e. the client is\n",
        "charged much more than usual). This triggers a reaction from the customer\n",
        "inducing an increased risk of churn. This scenario is well understood and\n",
        "verified in practice. It is believed to be the most important cause of churn.\n",
        "Customer dissatisfaction Multiple factors influence customer satisfaction, including quality of service and network quality. A customer having numerous\n",
        "cuts of network connection during phone calls, or unable to use properly Orange online services, will be more likely to seek better alternatives elsewhere.\n",
        "\n",
        "**Wrong positioning Choosing:** the right tariff plan suited to one’s service usage\n",
        "habits is sometimes difficult. On the one hand, if not enough call time is\n",
        "provisioned, an “out of bundle” amount is likely to be charged at the end\n",
        "of the month. On the other hand, an expensive tariff plan results in a high\n",
        "fixed cost for the customer. When the needs of a customer do not correspond\n",
        "to the chosen tariff plan, we say that the customer is wrongly positioned. A\n",
        "wrong positioning results in most cases to a higher bill than expected, and\n",
        "is a significant cause of churn.\n",
        "\n",
        "**Churn due to a move:** It is common to choose a product bundle from a telecommunication company comprising a subscription for mobile phone, landline\n",
        "phone, television, and internet connection. In this case, the subscription is\n",
        "tied to the particular place of domicile of the customer. When the client\n",
        "moves to another place, it is quite common to also change for another\n",
        "telecommunication service provider. T"
      ]
    },
    {
      "cell_type": "markdown",
      "metadata": {
        "id": "M3bmarMloCSc"
      },
      "source": [
        "# Thank You!"
      ]
    }
  ]
}